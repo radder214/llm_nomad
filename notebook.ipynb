{
 "cells": [
  {
   "cell_type": "markdown",
   "metadata": {},
   "source": [
    "# OutputParser"
   ]
  },
  {
   "cell_type": "code",
   "execution_count": 38,
   "metadata": {},
   "outputs": [
    {
     "data": {
      "text/plain": [
       "['Hello', 'how', 'are', 'you']"
      ]
     },
     "execution_count": 38,
     "metadata": {},
     "output_type": "execute_result"
    }
   ],
   "source": [
    "# base class, 이것을 extends 해 custom parser를 만든다.\n",
    "from langchain.schema import BaseOutputParser\n",
    "\n",
    "class CommaOutputParser(BaseOutputParser):\n",
    "    # parse라는 method를 반드시 구현해야 한다.\n",
    "    def parse(self, text):\n",
    "        items = text.strip().split(\",\") # strip() -> 텍스트 좌우 공백 제거\n",
    "        return list(map(str.strip, items))\n",
    "        # items: split(\",\")으로 나눈 문자열 리스트 --> [\"Hello\", \" how\", \" are\", \" you\"]\n",
    "        # map(str.strip, items): items의 각 요소에 strip 을 적용해 공백 제거 --> [\"Hello\", \"how\", \"are\", \"you\"]\n",
    "        # list(...): map 객체를 리스트로 변환\n",
    "    \n",
    "        # ========== 아래와 같이 작성하면 tuple 형태로 반환 ==========\n",
    "        # return tuple(map(str.strip, items))\n",
    "\n",
    "p = CommaOutputParser()\n",
    "p.parse(\"Hello, how, are, you\")"
   ]
  },
  {
   "cell_type": "markdown",
   "metadata": {},
   "source": [
    "# LCEL(LangChain Expression Language)"
   ]
  },
  {
   "cell_type": "code",
   "execution_count": 39,
   "metadata": {},
   "outputs": [],
   "source": [
    "from langchain.chat_models import ChatOpenAI\n",
    "from langchain.prompts import ChatPromptTemplate\n",
    "\n",
    "chat = ChatOpenAI(temperature=0.1)\n",
    "\n",
    "template = ChatPromptTemplate.from_messages([\n",
    "    (\"system\", \"You are a list generating machine. Everything you are asked will be answered with a comma separated list of max {max_items} in lowercase. Do NOT reply with anything else.\"),\n",
    "    (\"human\", \"{question}\")\n",
    "])"
   ]
  },
  {
   "cell_type": "markdown",
   "metadata": {},
   "source": [
    "### LCEL 적용 전"
   ]
  },
  {
   "cell_type": "code",
   "execution_count": 40,
   "metadata": {},
   "outputs": [
    {
     "data": {
      "text/plain": [
       "['red',\n",
       " 'blue',\n",
       " 'green',\n",
       " 'yellow',\n",
       " 'orange',\n",
       " 'purple',\n",
       " 'pink',\n",
       " 'black',\n",
       " 'white',\n",
       " 'brown']"
      ]
     },
     "execution_count": 40,
     "metadata": {},
     "output_type": "execute_result"
    }
   ],
   "source": [
    "prompt = template.format_messages(\n",
    "    max_items = 10,\n",
    "    question = \"What are the Colors?\"\n",
    ")\n",
    "result = chat.predict_messages(prompt)\n",
    "p = CommaOutputParser()\n",
    "p.parse(result.content)"
   ]
  },
  {
   "cell_type": "markdown",
   "metadata": {},
   "source": [
    "### LCEL 적용 후"
   ]
  },
  {
   "cell_type": "code",
   "execution_count": 41,
   "metadata": {},
   "outputs": [
    {
     "data": {
      "text/plain": [
       "['fortnite',\n",
       " 'minecraft',\n",
       " 'among us',\n",
       " 'call of duty',\n",
       " 'league of legends',\n",
       " 'valorant',\n",
       " 'overwatch',\n",
       " 'apex legends',\n",
       " 'animal crossing',\n",
       " 'super mario']"
      ]
     },
     "execution_count": 41,
     "metadata": {},
     "output_type": "execute_result"
    }
   ],
   "source": [
    "# langchain이 내부적으로 format_messages, predict, parse 등을 알아서 호출한다.\n",
    "chain = template | chat | CommaOutputParser()\n",
    "chain.invoke({ # invoke의 argument로는 dictionary type이 들어가야 한다.\n",
    "    \"max_items\" : 10,\n",
    "    \"question\"  : \"What are the games?\"\n",
    "})\n",
    "# chain과 chain을 결합할 수도 있다. by '|'"
   ]
  }
 ],
 "metadata": {
  "kernelspec": {
   "display_name": "env",
   "language": "python",
   "name": "python3"
  },
  "language_info": {
   "codemirror_mode": {
    "name": "ipython",
    "version": 3
   },
   "file_extension": ".py",
   "mimetype": "text/x-python",
   "name": "python",
   "nbconvert_exporter": "python",
   "pygments_lexer": "ipython3",
   "version": "3.11.6"
  }
 },
 "nbformat": 4,
 "nbformat_minor": 2
}
