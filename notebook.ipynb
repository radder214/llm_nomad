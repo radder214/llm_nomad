{
 "cells": [
  {
   "cell_type": "code",
   "execution_count": 30,
   "metadata": {},
   "outputs": [
    {
     "data": {
      "text/plain": [
       "('\\n\\nAs of 2021, there are eight recognized planets in our solar system: Mercury, Venus, Earth, Mars, Jupiter, Saturn, Uranus, and Neptune. Some scientists also consider Pluto to be a dwarf planet.',\n",
       " 'There are 8 planets in our solar system: Mercury, Venus, Earth, Mars, Jupiter, Saturn, Uranus, and Neptune.')"
      ]
     },
     "execution_count": 30,
     "metadata": {},
     "output_type": "execute_result"
    }
   ],
   "source": [
    "from langchain.llms.openai import OpenAI        # default model: text-davinci-003\n",
    "from langchain.chat_models import ChatOpenAI    # default model: gpt-3.5-turbo\n",
    "\n",
    "# gpt-3.5-turbo model\n",
    "    # text-davinci-003에 비해 chat(대화)에 더 최적화 되어있다.\n",
    "    # text-davinci-003에 비해 비용이 1/10 이다.\n",
    "\n",
    "# InvalidRequestError: The model `text-davinci-003` has been deprecated\n",
    "# 위의 Error로 인해 OpenAI 생성자에 model을 지정해주었다.\n",
    "llm = OpenAI(model=\"gpt-3.5-turbo-instruct\")\n",
    "chat = ChatOpenAI()\n",
    "\n",
    "a = llm.predict(\"How many planets are there?\")\n",
    "b = chat.predict(\"How many planets are there?\")\n",
    "\n",
    "a, b"
   ]
  }
 ],
 "metadata": {
  "kernelspec": {
   "display_name": "env",
   "language": "python",
   "name": "python3"
  },
  "language_info": {
   "codemirror_mode": {
    "name": "ipython",
    "version": 3
   },
   "file_extension": ".py",
   "mimetype": "text/x-python",
   "name": "python",
   "nbconvert_exporter": "python",
   "pygments_lexer": "ipython3",
   "version": "3.11.6"
  }
 },
 "nbformat": 4,
 "nbformat_minor": 2
}
